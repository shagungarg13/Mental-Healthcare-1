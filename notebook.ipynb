{
 "metadata": {
  "language_info": {
   "codemirror_mode": {
    "name": "ipython",
    "version": 3
   },
   "file_extension": ".py",
   "mimetype": "text/x-python",
   "name": "python",
   "nbconvert_exporter": "python",
   "pygments_lexer": "ipython3",
   "version": "3.7.3"
  },
  "orig_nbformat": 2,
  "kernelspec": {
   "name": "python373jvsc74a57bd02b9cd5c3ec4eb793e30b3fe22fb3034f3d8c9722bad10f4cedbbd7faa7e7f261",
   "display_name": "Python 3.7.3 64-bit ('base': conda)"
  }
 },
 "nbformat": 4,
 "nbformat_minor": 2,
 "cells": [
  {
   "cell_type": "code",
   "execution_count": 1,
   "metadata": {},
   "outputs": [],
   "source": [
    "import pandas as pd\n",
    "import matplotlib.pyplot as plt\n",
    "import numpy as np"
   ]
  },
  {
   "cell_type": "code",
   "execution_count": 14,
   "metadata": {},
   "outputs": [],
   "source": [
    "survey_2016 = pd.read_csv('datasets/survey_16.csv')"
   ]
  },
  {
   "cell_type": "code",
   "execution_count": 15,
   "metadata": {},
   "outputs": [
    {
     "output_type": "execute_result",
     "data": {
      "text/plain": [
       "   Are you self-employed?  \\\n",
       "0                       0   \n",
       "1                       0   \n",
       "2                       0   \n",
       "3                       1   \n",
       "4                       0   \n",
       "\n",
       "  How many employees does your company or organization have?  \\\n",
       "0                                             26-100           \n",
       "1                                               6-25           \n",
       "2                                               6-25           \n",
       "3                                                NaN           \n",
       "4                                               6-25           \n",
       "\n",
       "   Is your employer primarily a tech company/organization?  \\\n",
       "0                                                1.0         \n",
       "1                                                1.0         \n",
       "2                                                1.0         \n",
       "3                                                NaN         \n",
       "4                                                0.0         \n",
       "\n",
       "   Is your primary role within your company related to tech/IT?  \\\n",
       "0                                                NaN              \n",
       "1                                                NaN              \n",
       "2                                                NaN              \n",
       "3                                                NaN              \n",
       "4                                                1.0              \n",
       "\n",
       "  Does your employer provide mental health benefits as part of healthcare coverage?  \\\n",
       "0                    Not eligible for coverage / N/A                                  \n",
       "1                                                 No                                  \n",
       "2                                                 No                                  \n",
       "3                                                NaN                                  \n",
       "4                                                Yes                                  \n",
       "\n",
       "  Do you know the options for mental health care available under your employer-provided coverage?  \\\n",
       "0                                                NaN                                                \n",
       "1                                                Yes                                                \n",
       "2                                                NaN                                                \n",
       "3                                                NaN                                                \n",
       "4                                                Yes                                                \n",
       "\n",
       "  Has your employer ever formally discussed mental health (for example, as part of a wellness campaign or other official communication)?  \\\n",
       "0                                                 No                                                                                       \n",
       "1                                                Yes                                                                                       \n",
       "2                                                 No                                                                                       \n",
       "3                                                NaN                                                                                       \n",
       "4                                                 No                                                                                       \n",
       "\n",
       "  Does your employer offer resources to learn more about mental health concerns and options for seeking help?  \\\n",
       "0                                                 No                                                            \n",
       "1                                                Yes                                                            \n",
       "2                                                 No                                                            \n",
       "3                                                NaN                                                            \n",
       "4                                                 No                                                            \n",
       "\n",
       "  Is your anonymity protected if you choose to take advantage of mental health or substance abuse treatment resources provided by your employer?  \\\n",
       "0                                       I don't know                                                                                               \n",
       "1                                                Yes                                                                                               \n",
       "2                                       I don't know                                                                                               \n",
       "3                                                NaN                                                                                               \n",
       "4                                                 No                                                                                               \n",
       "\n",
       "  If a mental health issue prompted you to request a medical leave from work, asking for that leave would be:  \\\n",
       "0                                          Very easy                                                            \n",
       "1                                      Somewhat easy                                                            \n",
       "2                         Neither easy nor difficult                                                            \n",
       "3                                                NaN                                                            \n",
       "4                         Neither easy nor difficult                                                            \n",
       "\n",
       "   ...  \\\n",
       "0  ...   \n",
       "1  ...   \n",
       "2  ...   \n",
       "3  ...   \n",
       "4  ...   \n",
       "\n",
       "  If you have a mental health issue, do you feel that it interferes with your work when being treated effectively?  \\\n",
       "0                               Not applicable to me                                                                 \n",
       "1                                             Rarely                                                                 \n",
       "2                               Not applicable to me                                                                 \n",
       "3                                          Sometimes                                                                 \n",
       "4                                          Sometimes                                                                 \n",
       "\n",
       "  If you have a mental health issue, do you feel that it interferes with your work when NOT being treated effectively?  \\\n",
       "0                               Not applicable to me                                                                     \n",
       "1                                          Sometimes                                                                     \n",
       "2                               Not applicable to me                                                                     \n",
       "3                                          Sometimes                                                                     \n",
       "4                                          Sometimes                                                                     \n",
       "\n",
       "  What is your age? What is your gender? What country do you live in?  \\\n",
       "0                39                 Male               United Kingdom   \n",
       "1                29                 male     United States of America   \n",
       "2                38                Male                United Kingdom   \n",
       "3                43                 male               United Kingdom   \n",
       "4                43               Female     United States of America   \n",
       "\n",
       "  What US state or territory do you live in?  What country do you work in?  \\\n",
       "0                                        NaN                United Kingdom   \n",
       "1                                   Illinois      United States of America   \n",
       "2                                        NaN                United Kingdom   \n",
       "3                                        NaN                United Kingdom   \n",
       "4                                   Illinois      United States of America   \n",
       "\n",
       "  What US state or territory do you work in?  \\\n",
       "0                                        NaN   \n",
       "1                                   Illinois   \n",
       "2                                        NaN   \n",
       "3                                        NaN   \n",
       "4                                   Illinois   \n",
       "\n",
       "  Which of the following best describes your work position?  \\\n",
       "0                                 Back-end Developer          \n",
       "1             Back-end Developer|Front-end Developer          \n",
       "2                                 Back-end Developer          \n",
       "3                               Supervisor/Team Lead          \n",
       "4  Executive Leadership|Supervisor/Team Lead|Dev ...          \n",
       "\n",
       "  Do you work remotely?  \n",
       "0             Sometimes  \n",
       "1                 Never  \n",
       "2                Always  \n",
       "3             Sometimes  \n",
       "4             Sometimes  \n",
       "\n",
       "[5 rows x 63 columns]"
      ],
      "text/html": "<div>\n<style scoped>\n    .dataframe tbody tr th:only-of-type {\n        vertical-align: middle;\n    }\n\n    .dataframe tbody tr th {\n        vertical-align: top;\n    }\n\n    .dataframe thead th {\n        text-align: right;\n    }\n</style>\n<table border=\"1\" class=\"dataframe\">\n  <thead>\n    <tr style=\"text-align: right;\">\n      <th></th>\n      <th>Are you self-employed?</th>\n      <th>How many employees does your company or organization have?</th>\n      <th>Is your employer primarily a tech company/organization?</th>\n      <th>Is your primary role within your company related to tech/IT?</th>\n      <th>Does your employer provide mental health benefits as part of healthcare coverage?</th>\n      <th>Do you know the options for mental health care available under your employer-provided coverage?</th>\n      <th>Has your employer ever formally discussed mental health (for example, as part of a wellness campaign or other official communication)?</th>\n      <th>Does your employer offer resources to learn more about mental health concerns and options for seeking help?</th>\n      <th>Is your anonymity protected if you choose to take advantage of mental health or substance abuse treatment resources provided by your employer?</th>\n      <th>If a mental health issue prompted you to request a medical leave from work, asking for that leave would be:</th>\n      <th>...</th>\n      <th>If you have a mental health issue, do you feel that it interferes with your work when being treated effectively?</th>\n      <th>If you have a mental health issue, do you feel that it interferes with your work when NOT being treated effectively?</th>\n      <th>What is your age?</th>\n      <th>What is your gender?</th>\n      <th>What country do you live in?</th>\n      <th>What US state or territory do you live in?</th>\n      <th>What country do you work in?</th>\n      <th>What US state or territory do you work in?</th>\n      <th>Which of the following best describes your work position?</th>\n      <th>Do you work remotely?</th>\n    </tr>\n  </thead>\n  <tbody>\n    <tr>\n      <th>0</th>\n      <td>0</td>\n      <td>26-100</td>\n      <td>1.0</td>\n      <td>NaN</td>\n      <td>Not eligible for coverage / N/A</td>\n      <td>NaN</td>\n      <td>No</td>\n      <td>No</td>\n      <td>I don't know</td>\n      <td>Very easy</td>\n      <td>...</td>\n      <td>Not applicable to me</td>\n      <td>Not applicable to me</td>\n      <td>39</td>\n      <td>Male</td>\n      <td>United Kingdom</td>\n      <td>NaN</td>\n      <td>United Kingdom</td>\n      <td>NaN</td>\n      <td>Back-end Developer</td>\n      <td>Sometimes</td>\n    </tr>\n    <tr>\n      <th>1</th>\n      <td>0</td>\n      <td>6-25</td>\n      <td>1.0</td>\n      <td>NaN</td>\n      <td>No</td>\n      <td>Yes</td>\n      <td>Yes</td>\n      <td>Yes</td>\n      <td>Yes</td>\n      <td>Somewhat easy</td>\n      <td>...</td>\n      <td>Rarely</td>\n      <td>Sometimes</td>\n      <td>29</td>\n      <td>male</td>\n      <td>United States of America</td>\n      <td>Illinois</td>\n      <td>United States of America</td>\n      <td>Illinois</td>\n      <td>Back-end Developer|Front-end Developer</td>\n      <td>Never</td>\n    </tr>\n    <tr>\n      <th>2</th>\n      <td>0</td>\n      <td>6-25</td>\n      <td>1.0</td>\n      <td>NaN</td>\n      <td>No</td>\n      <td>NaN</td>\n      <td>No</td>\n      <td>No</td>\n      <td>I don't know</td>\n      <td>Neither easy nor difficult</td>\n      <td>...</td>\n      <td>Not applicable to me</td>\n      <td>Not applicable to me</td>\n      <td>38</td>\n      <td>Male</td>\n      <td>United Kingdom</td>\n      <td>NaN</td>\n      <td>United Kingdom</td>\n      <td>NaN</td>\n      <td>Back-end Developer</td>\n      <td>Always</td>\n    </tr>\n    <tr>\n      <th>3</th>\n      <td>1</td>\n      <td>NaN</td>\n      <td>NaN</td>\n      <td>NaN</td>\n      <td>NaN</td>\n      <td>NaN</td>\n      <td>NaN</td>\n      <td>NaN</td>\n      <td>NaN</td>\n      <td>NaN</td>\n      <td>...</td>\n      <td>Sometimes</td>\n      <td>Sometimes</td>\n      <td>43</td>\n      <td>male</td>\n      <td>United Kingdom</td>\n      <td>NaN</td>\n      <td>United Kingdom</td>\n      <td>NaN</td>\n      <td>Supervisor/Team Lead</td>\n      <td>Sometimes</td>\n    </tr>\n    <tr>\n      <th>4</th>\n      <td>0</td>\n      <td>6-25</td>\n      <td>0.0</td>\n      <td>1.0</td>\n      <td>Yes</td>\n      <td>Yes</td>\n      <td>No</td>\n      <td>No</td>\n      <td>No</td>\n      <td>Neither easy nor difficult</td>\n      <td>...</td>\n      <td>Sometimes</td>\n      <td>Sometimes</td>\n      <td>43</td>\n      <td>Female</td>\n      <td>United States of America</td>\n      <td>Illinois</td>\n      <td>United States of America</td>\n      <td>Illinois</td>\n      <td>Executive Leadership|Supervisor/Team Lead|Dev ...</td>\n      <td>Sometimes</td>\n    </tr>\n  </tbody>\n</table>\n<p>5 rows × 63 columns</p>\n</div>"
     },
     "metadata": {},
     "execution_count": 15
    }
   ],
   "source": [
    "survey_2016.head()"
   ]
  },
  {
   "cell_type": "code",
   "execution_count": 16,
   "metadata": {},
   "outputs": [
    {
     "output_type": "stream",
     "name": "stdout",
     "text": [
      "<class 'pandas.core.frame.DataFrame'>\nRangeIndex: 1433 entries, 0 to 1432\nData columns (total 63 columns):\n #   Column                                                                                                                                                                            Non-Null Count  Dtype  \n---  ------                                                                                                                                                                            --------------  -----  \n 0   Are you self-employed?                                                                                                                                                            1433 non-null   int64  \n 1   How many employees does your company or organization have?                                                                                                                        1146 non-null   object \n 2   Is your employer primarily a tech company/organization?                                                                                                                           1146 non-null   float64\n 3   Is your primary role within your company related to tech/IT?                                                                                                                      263 non-null    float64\n 4   Does your employer provide mental health benefits as part of healthcare coverage?                                                                                                 1146 non-null   object \n 5   Do you know the options for mental health care available under your employer-provided coverage?                                                                                   1013 non-null   object \n 6   Has your employer ever formally discussed mental health (for example, as part of a wellness campaign or other official communication)?                                            1146 non-null   object \n 7   Does your employer offer resources to learn more about mental health concerns and options for seeking help?                                                                       1146 non-null   object \n 8   Is your anonymity protected if you choose to take advantage of mental health or substance abuse treatment resources provided by your employer?                                    1146 non-null   object \n 9   If a mental health issue prompted you to request a medical leave from work, asking for that leave would be:                                                                       1146 non-null   object \n 10  Do you think that discussing a mental health disorder with your employer would have negative consequences?                                                                        1146 non-null   object \n 11  Do you think that discussing a physical health issue with your employer would have negative consequences?                                                                         1146 non-null   object \n 12  Would you feel comfortable discussing a mental health disorder with your coworkers?                                                                                               1146 non-null   object \n 13  Would you feel comfortable discussing a mental health disorder with your direct supervisor(s)?                                                                                    1146 non-null   object \n 14  Do you feel that your employer takes mental health as seriously as physical health?                                                                                               1146 non-null   object \n 15  Have you heard of or observed negative consequences for co-workers who have been open about mental health issues in your workplace?                                               1146 non-null   object \n 16  Do you have medical coverage (private insurance or state-provided) which includes treatment of  mental health issues?                                                             287 non-null    float64\n 17  Do you know local or online resources to seek help for a mental health disorder?                                                                                                  287 non-null    object \n 18  If you have been diagnosed or treated for a mental health disorder, do you ever reveal this to clients or business contacts?                                                      287 non-null    object \n 19  If you have revealed a mental health issue to a client or business contact, do you believe this has impacted you negatively?                                                      144 non-null    object \n 20  If you have been diagnosed or treated for a mental health disorder, do you ever reveal this to coworkers or employees?                                                            287 non-null    object \n 21  If you have revealed a mental health issue to a coworker or employee, do you believe this has impacted you negatively?                                                            287 non-null    object \n 22  Do you believe your productivity is ever affected by a mental health issue?                                                                                                       287 non-null    object \n 23  If yes, what percentage of your work time (time performing primary or secondary job functions) is affected by a mental health issue?                                              204 non-null    object \n 24  Do you have previous employers?                                                                                                                                                   1433 non-null   int64  \n 25  Have your previous employers provided mental health benefits?                                                                                                                     1264 non-null   object \n 26  Were you aware of the options for mental health care provided by your previous employers?                                                                                         1264 non-null   object \n 27  Did your previous employers ever formally discuss mental health (as part of a wellness campaign or other official communication)?                                                 1264 non-null   object \n 28  Did your previous employers provide resources to learn more about mental health issues and how to seek help?                                                                      1264 non-null   object \n 29  Was your anonymity protected if you chose to take advantage of mental health or substance abuse treatment resources with previous employers?                                      1264 non-null   object \n 30  Do you think that discussing a mental health disorder with previous employers would have negative consequences?                                                                   1264 non-null   object \n 31  Do you think that discussing a physical health issue with previous employers would have negative consequences?                                                                    1264 non-null   object \n 32  Would you have been willing to discuss a mental health issue with your previous co-workers?                                                                                       1264 non-null   object \n 33  Would you have been willing to discuss a mental health issue with your direct supervisor(s)?                                                                                      1264 non-null   object \n 34  Did you feel that your previous employers took mental health as seriously as physical health?                                                                                     1264 non-null   object \n 35  Did you hear of or observe negative consequences for co-workers with mental health issues in your previous workplaces?                                                            1264 non-null   object \n 36  Would you be willing to bring up a physical health issue with a potential employer in an interview?                                                                               1433 non-null   object \n 37  Why or why not?                                                                                                                                                                   1095 non-null   object \n 38  Would you bring up a mental health issue with a potential employer in an interview?                                                                                               1433 non-null   object \n 39  Why or why not?.1                                                                                                                                                                 1126 non-null   object \n 40  Do you feel that being identified as a person with a mental health issue would hurt your career?                                                                                  1433 non-null   object \n 41  Do you think that team members/co-workers would view you more negatively if they knew you suffered from a mental health issue?                                                    1433 non-null   object \n 42  How willing would you be to share with friends and family that you have a mental illness?                                                                                         1433 non-null   object \n 43  Have you observed or experienced an unsupportive or badly handled response to a mental health issue in your current or previous workplace?                                        1344 non-null   object \n 44  Have your observations of how another individual who discussed a mental health disorder made you less likely to reveal a mental health issue yourself in your current workplace?  657 non-null    object \n 45  Do you have a family history of mental illness?                                                                                                                                   1433 non-null   object \n 46  Have you had a mental health disorder in the past?                                                                                                                                1433 non-null   object \n 47  Do you currently have a mental health disorder?                                                                                                                                   1433 non-null   object \n 48  If yes, what condition(s) have you been diagnosed with?                                                                                                                           568 non-null    object \n 49  If maybe, what condition(s) do you believe you have?                                                                                                                              322 non-null    object \n 50  Have you been diagnosed with a mental health condition by a medical professional?                                                                                                 1433 non-null   object \n 51  If so, what condition(s) were you diagnosed with?                                                                                                                                 711 non-null    object \n 52  Have you ever sought treatment for a mental health issue from a mental health professional?                                                                                       1433 non-null   int64  \n 53  If you have a mental health issue, do you feel that it interferes with your work when being treated effectively?                                                                  1433 non-null   object \n 54  If you have a mental health issue, do you feel that it interferes with your work when NOT being treated effectively?                                                              1433 non-null   object \n 55  What is your age?                                                                                                                                                                 1433 non-null   int64  \n 56  What is your gender?                                                                                                                                                              1430 non-null   object \n 57  What country do you live in?                                                                                                                                                      1433 non-null   object \n 58  What US state or territory do you live in?                                                                                                                                        840 non-null    object \n 59  What country do you work in?                                                                                                                                                      1433 non-null   object \n 60  What US state or territory do you work in?                                                                                                                                        851 non-null    object \n 61  Which of the following best describes your work position?                                                                                                                         1433 non-null   object \n 62  Do you work remotely?                                                                                                                                                             1433 non-null   object \ndtypes: float64(3), int64(4), object(56)\nmemory usage: 705.4+ KB\n"
     ]
    }
   ],
   "source": [
    "survey_2016.info()"
   ]
  },
  {
   "cell_type": "code",
   "execution_count": 17,
   "metadata": {},
   "outputs": [],
   "source": [
    "renamed_columns = ['self_empl_flag', 'comp_no_empl', 'tech_comp_flag', 'tech_role_flag', 'mh_coverage_flag',\n",
    "                  'mh_coverage_awareness_flag', 'mh_employer_discussion', 'mh_resources_provided', 'mh_anonimity_flag',\n",
    "                  'mh_medical_leave', 'mh_discussion_neg_impact', 'ph_discussion_neg_impact', 'mh_discussion_cowork',\n",
    "                  'mh_discussion_supervis', 'mh_eq_ph_employer', 'mh_conseq_coworkers', 'mh_coverage_flag2', 'mh_online_res_flag',\n",
    "                  'mh_diagnosed&reveal_clients_flag', 'mh_diagnosed&reveal_clients_impact', 'mh_diagnosed&reveal_cowork_flag', 'mh_cowork_reveal_neg_impact',\n",
    "                  'mh_prod_impact', 'mh_prod_impact_perc', 'prev_employers_flag', 'prev_mh_benefits', 'prev_mh_benefits_awareness',\n",
    "                  'prev_mh_discussion', 'prev_mh_resources', 'prev_mh_anonimity', 'prev_mh_discuss_neg_conseq', 'prev_ph_discuss_neg_conseq',\n",
    "                  'prev_mh_discussion_cowork', 'prev_mh_discussion_supervisor', 'prev_mh_importance_employer', 'prev_mh_conseq_coworkers',\n",
    "                  'future_ph_specification', 'why/why_not', 'future_mh_specification', 'why/why_not2', 'mh_hurt_on_career', 'mh_neg_view_cowork',\n",
    "                  'mh_sharing_friends/fam_flag', 'mh_bad_response_workplace', 'mh_for_others_bad_response_workplace', 'mh_family_hist',\n",
    "                  'mh_disorder_past', 'mh_disorder_current', 'yes:what_diagnosis?', 'maybe:whats_your_diag', 'mh_diagnos_proffesional',\n",
    "                  'yes:condition_diagnosed', 'mh_sought_proffes_treatm', 'mh_eff_treat_impact_on_work', 'mh_not_eff_treat_impact_on_work',\n",
    "                  'age', 'sex', 'country_live', 'live_us_teritory', 'country_work', 'work_us_teritory', 'work_position', 'remote_flag']\n",
    "survey_2016.columns = renamed_columns\n",
    "\n",
    "# Sex column needs to be recoded (number of unique values = 70)\n",
    "survey_2016['sex'].replace(to_replace = ['Male', 'male', 'Male ', 'M', 'm',\n",
    "       'man', 'Cis male', 'Male.', 'male 9:1 female, roughly', 'Male (cis)', 'Man', 'Sex is male',\n",
    "       'cis male', 'Malr', 'Dude', \"I'm a man why didn't you make this a drop down question. You should of asked sex? And I would of answered yes please. Seriously how much text can this take? \",\n",
    "       'mail', 'M|', 'Male/genderqueer', 'male ',\n",
    "       'Cis Male', 'Male (trans, FtM)',\n",
    "       'cisdude', 'cis man', 'MALE'], value = 1, inplace = True)\n",
    "\n",
    "survey_2016['sex'].replace(to_replace = ['Female', 'female', 'I identify as female.', 'female ',\n",
    "       'Female assigned at birth ', 'F', 'Woman', 'fm', 'f', 'Cis female ', 'Transitioned, M2F',\n",
    "       'Genderfluid (born female)', 'Female or Multi-Gender Femme', 'Female ', 'woman', 'female/woman',\n",
    "       'Cisgender Female', 'fem', 'Female (props for making this a freeform field, though)',\n",
    "       ' Female', 'Cis-woman', 'female-bodied; no feelings about gender',\n",
    "       'AFAB'], value = 2, inplace = True)\n",
    "\n",
    "survey_2016['sex'].replace(to_replace = ['Bigender', 'non-binary', 'Other/Transfeminine',\n",
    "       'Androgynous', 'Other', 'nb masculine',\n",
    "       'none of your business', 'genderqueer', 'Human', 'Genderfluid',\n",
    "       'Enby', 'genderqueer woman', 'mtf', 'Queer', 'Agender', 'Fluid',\n",
    "       'Nonbinary', 'human', 'Unicorn', 'Genderqueer',\n",
    "       'Genderflux demi-girl', 'Transgender woman'], value = 3, inplace = True)\n",
    "\n",
    "# Recode Comp size & country columns (for ease when doing plots)\n",
    "survey_2016['comp_no_empl'].replace(to_replace = ['More than 1000'], value = '>1000', inplace = True)\n",
    "survey_2016['country_live'].replace(to_replace = ['United States of America'], value = 'USA', inplace = True)\n",
    "survey_2016['country_live'].replace(to_replace = ['United Kingdom'], value = 'UK', inplace = True)\n",
    "survey_2016['country_work'].replace(to_replace = ['United States of America'], value = 'USA', inplace = True)\n",
    "survey_2016['country_work'].replace(to_replace = ['United Kingdom'], value = 'UK', inplace = True)\n",
    "\n",
    "# Max age is 323, min age is 3.\n",
    "# There are only 5 people that have weird ages (3yo, 15yo, or 99yo or 323 yo.) \n",
    "# These people will take the average age of the dataset (the correct calculated one, w/out outliers)\n",
    "mean_age = survey_2016[(survey_2016['age'] >= 18) | (survey_2016['age'] <= 75)]['age'].mean()\n",
    "survey_2016['age'].replace(to_replace = survey_2016[(survey_2016['age'] < 18) | (survey_2016['age'] > 75)]['age'].tolist(),\n",
    "                          value = mean_age, inplace = True)"
   ]
  },
  {
   "cell_type": "code",
   "execution_count": 19,
   "metadata": {},
   "outputs": [
    {
     "output_type": "execute_result",
     "data": {
      "text/plain": [
       "   self_empl_flag comp_no_empl  tech_comp_flag  tech_role_flag  \\\n",
       "0               0       26-100             1.0             NaN   \n",
       "1               0         6-25             1.0             NaN   \n",
       "2               0         6-25             1.0             NaN   \n",
       "3               1          NaN             NaN             NaN   \n",
       "4               0         6-25             0.0             1.0   \n",
       "\n",
       "                  mh_coverage_flag mh_coverage_awareness_flag  \\\n",
       "0  Not eligible for coverage / N/A                        NaN   \n",
       "1                               No                        Yes   \n",
       "2                               No                        NaN   \n",
       "3                              NaN                        NaN   \n",
       "4                              Yes                        Yes   \n",
       "\n",
       "  mh_employer_discussion mh_resources_provided mh_anonimity_flag  \\\n",
       "0                     No                    No      I don't know   \n",
       "1                    Yes                   Yes               Yes   \n",
       "2                     No                    No      I don't know   \n",
       "3                    NaN                   NaN               NaN   \n",
       "4                     No                    No                No   \n",
       "\n",
       "             mh_medical_leave  ... mh_eff_treat_impact_on_work  \\\n",
       "0                   Very easy  ...        Not applicable to me   \n",
       "1               Somewhat easy  ...                      Rarely   \n",
       "2  Neither easy nor difficult  ...        Not applicable to me   \n",
       "3                         NaN  ...                   Sometimes   \n",
       "4  Neither easy nor difficult  ...                   Sometimes   \n",
       "\n",
       "  mh_not_eff_treat_impact_on_work   age  sex country_live live_us_teritory  \\\n",
       "0            Not applicable to me  39.0  1.0           UK              NaN   \n",
       "1                       Sometimes  29.0  1.0          USA         Illinois   \n",
       "2            Not applicable to me  38.0  1.0           UK              NaN   \n",
       "3                       Sometimes  43.0  1.0           UK              NaN   \n",
       "4                       Sometimes  43.0  2.0          USA         Illinois   \n",
       "\n",
       "   country_work work_us_teritory  \\\n",
       "0            UK              NaN   \n",
       "1           USA         Illinois   \n",
       "2            UK              NaN   \n",
       "3            UK              NaN   \n",
       "4           USA         Illinois   \n",
       "\n",
       "                                       work_position remote_flag  \n",
       "0                                 Back-end Developer   Sometimes  \n",
       "1             Back-end Developer|Front-end Developer       Never  \n",
       "2                                 Back-end Developer      Always  \n",
       "3                               Supervisor/Team Lead   Sometimes  \n",
       "4  Executive Leadership|Supervisor/Team Lead|Dev ...   Sometimes  \n",
       "\n",
       "[5 rows x 63 columns]"
      ],
      "text/html": "<div>\n<style scoped>\n    .dataframe tbody tr th:only-of-type {\n        vertical-align: middle;\n    }\n\n    .dataframe tbody tr th {\n        vertical-align: top;\n    }\n\n    .dataframe thead th {\n        text-align: right;\n    }\n</style>\n<table border=\"1\" class=\"dataframe\">\n  <thead>\n    <tr style=\"text-align: right;\">\n      <th></th>\n      <th>self_empl_flag</th>\n      <th>comp_no_empl</th>\n      <th>tech_comp_flag</th>\n      <th>tech_role_flag</th>\n      <th>mh_coverage_flag</th>\n      <th>mh_coverage_awareness_flag</th>\n      <th>mh_employer_discussion</th>\n      <th>mh_resources_provided</th>\n      <th>mh_anonimity_flag</th>\n      <th>mh_medical_leave</th>\n      <th>...</th>\n      <th>mh_eff_treat_impact_on_work</th>\n      <th>mh_not_eff_treat_impact_on_work</th>\n      <th>age</th>\n      <th>sex</th>\n      <th>country_live</th>\n      <th>live_us_teritory</th>\n      <th>country_work</th>\n      <th>work_us_teritory</th>\n      <th>work_position</th>\n      <th>remote_flag</th>\n    </tr>\n  </thead>\n  <tbody>\n    <tr>\n      <th>0</th>\n      <td>0</td>\n      <td>26-100</td>\n      <td>1.0</td>\n      <td>NaN</td>\n      <td>Not eligible for coverage / N/A</td>\n      <td>NaN</td>\n      <td>No</td>\n      <td>No</td>\n      <td>I don't know</td>\n      <td>Very easy</td>\n      <td>...</td>\n      <td>Not applicable to me</td>\n      <td>Not applicable to me</td>\n      <td>39.0</td>\n      <td>1.0</td>\n      <td>UK</td>\n      <td>NaN</td>\n      <td>UK</td>\n      <td>NaN</td>\n      <td>Back-end Developer</td>\n      <td>Sometimes</td>\n    </tr>\n    <tr>\n      <th>1</th>\n      <td>0</td>\n      <td>6-25</td>\n      <td>1.0</td>\n      <td>NaN</td>\n      <td>No</td>\n      <td>Yes</td>\n      <td>Yes</td>\n      <td>Yes</td>\n      <td>Yes</td>\n      <td>Somewhat easy</td>\n      <td>...</td>\n      <td>Rarely</td>\n      <td>Sometimes</td>\n      <td>29.0</td>\n      <td>1.0</td>\n      <td>USA</td>\n      <td>Illinois</td>\n      <td>USA</td>\n      <td>Illinois</td>\n      <td>Back-end Developer|Front-end Developer</td>\n      <td>Never</td>\n    </tr>\n    <tr>\n      <th>2</th>\n      <td>0</td>\n      <td>6-25</td>\n      <td>1.0</td>\n      <td>NaN</td>\n      <td>No</td>\n      <td>NaN</td>\n      <td>No</td>\n      <td>No</td>\n      <td>I don't know</td>\n      <td>Neither easy nor difficult</td>\n      <td>...</td>\n      <td>Not applicable to me</td>\n      <td>Not applicable to me</td>\n      <td>38.0</td>\n      <td>1.0</td>\n      <td>UK</td>\n      <td>NaN</td>\n      <td>UK</td>\n      <td>NaN</td>\n      <td>Back-end Developer</td>\n      <td>Always</td>\n    </tr>\n    <tr>\n      <th>3</th>\n      <td>1</td>\n      <td>NaN</td>\n      <td>NaN</td>\n      <td>NaN</td>\n      <td>NaN</td>\n      <td>NaN</td>\n      <td>NaN</td>\n      <td>NaN</td>\n      <td>NaN</td>\n      <td>NaN</td>\n      <td>...</td>\n      <td>Sometimes</td>\n      <td>Sometimes</td>\n      <td>43.0</td>\n      <td>1.0</td>\n      <td>UK</td>\n      <td>NaN</td>\n      <td>UK</td>\n      <td>NaN</td>\n      <td>Supervisor/Team Lead</td>\n      <td>Sometimes</td>\n    </tr>\n    <tr>\n      <th>4</th>\n      <td>0</td>\n      <td>6-25</td>\n      <td>0.0</td>\n      <td>1.0</td>\n      <td>Yes</td>\n      <td>Yes</td>\n      <td>No</td>\n      <td>No</td>\n      <td>No</td>\n      <td>Neither easy nor difficult</td>\n      <td>...</td>\n      <td>Sometimes</td>\n      <td>Sometimes</td>\n      <td>43.0</td>\n      <td>2.0</td>\n      <td>USA</td>\n      <td>Illinois</td>\n      <td>USA</td>\n      <td>Illinois</td>\n      <td>Executive Leadership|Supervisor/Team Lead|Dev ...</td>\n      <td>Sometimes</td>\n    </tr>\n  </tbody>\n</table>\n<p>5 rows × 63 columns</p>\n</div>"
     },
     "metadata": {},
     "execution_count": 19
    }
   ],
   "source": [
    "survey_2016.head()"
   ]
  },
  {
   "cell_type": "code",
   "execution_count": 20,
   "metadata": {},
   "outputs": [
    {
     "output_type": "execute_result",
     "data": {
      "text/plain": [
       "Index(['self_empl_flag', 'comp_no_empl', 'tech_comp_flag', 'tech_role_flag',\n",
       "       'mh_coverage_flag', 'mh_coverage_awareness_flag',\n",
       "       'mh_employer_discussion', 'mh_resources_provided', 'mh_anonimity_flag',\n",
       "       'mh_medical_leave', 'mh_discussion_neg_impact',\n",
       "       'ph_discussion_neg_impact', 'mh_discussion_cowork',\n",
       "       'mh_discussion_supervis', 'mh_eq_ph_employer', 'mh_conseq_coworkers',\n",
       "       'mh_coverage_flag2', 'mh_online_res_flag',\n",
       "       'mh_diagnosed&reveal_clients_flag',\n",
       "       'mh_diagnosed&reveal_clients_impact', 'mh_diagnosed&reveal_cowork_flag',\n",
       "       'mh_cowork_reveal_neg_impact', 'mh_prod_impact', 'mh_prod_impact_perc',\n",
       "       'prev_employers_flag', 'prev_mh_benefits', 'prev_mh_benefits_awareness',\n",
       "       'prev_mh_discussion', 'prev_mh_resources', 'prev_mh_anonimity',\n",
       "       'prev_mh_discuss_neg_conseq', 'prev_ph_discuss_neg_conseq',\n",
       "       'prev_mh_discussion_cowork', 'prev_mh_discussion_supervisor',\n",
       "       'prev_mh_importance_employer', 'prev_mh_conseq_coworkers',\n",
       "       'future_ph_specification', 'why/why_not', 'future_mh_specification',\n",
       "       'why/why_not2', 'mh_hurt_on_career', 'mh_neg_view_cowork',\n",
       "       'mh_sharing_friends/fam_flag', 'mh_bad_response_workplace',\n",
       "       'mh_for_others_bad_response_workplace', 'mh_family_hist',\n",
       "       'mh_disorder_past', 'mh_disorder_current', 'yes:what_diagnosis?',\n",
       "       'maybe:whats_your_diag', 'mh_diagnos_proffesional',\n",
       "       'yes:condition_diagnosed', 'mh_sought_proffes_treatm',\n",
       "       'mh_eff_treat_impact_on_work', 'mh_not_eff_treat_impact_on_work', 'age',\n",
       "       'sex', 'country_live', 'live_us_teritory', 'country_work',\n",
       "       'work_us_teritory', 'work_position', 'remote_flag'],\n",
       "      dtype='object')"
      ]
     },
     "metadata": {},
     "execution_count": 20
    }
   ],
   "source": [
    "survey_2016.columns"
   ]
  },
  {
   "cell_type": "code",
   "execution_count": 22,
   "metadata": {},
   "outputs": [
    {
     "output_type": "execute_result",
     "data": {
      "text/plain": [
       "array([0, 1], dtype=int64)"
      ]
     },
     "metadata": {},
     "execution_count": 22
    }
   ],
   "source": [
    "survey_2016['self_empl_flag'].unique()"
   ]
  },
  {
   "cell_type": "code",
   "execution_count": 26,
   "metadata": {},
   "outputs": [],
   "source": [
    "size = survey_2016.groupby('comp_no_empl').count()['self_empl_flag'].index\n",
    "num = survey_2016.groupby('comp_no_empl').count()['self_empl_flag'].values"
   ]
  },
  {
   "cell_type": "code",
   "execution_count": 34,
   "metadata": {},
   "outputs": [
    {
     "output_type": "display_data",
     "data": {
      "text/plain": "<Figure size 432x288 with 1 Axes>",
      "image/svg+xml": "<?xml version=\"1.0\" encoding=\"utf-8\" standalone=\"no\"?>\r\n<!DOCTYPE svg PUBLIC \"-//W3C//DTD SVG 1.1//EN\"\r\n  \"http://www.w3.org/Graphics/SVG/1.1/DTD/svg11.dtd\">\r\n<!-- Created with matplotlib (https://matplotlib.org/) -->\r\n<svg height=\"238.84pt\" version=\"1.1\" viewBox=\"0 0 264.056085 238.84\" width=\"264.056085pt\" xmlns=\"http://www.w3.org/2000/svg\" xmlns:xlink=\"http://www.w3.org/1999/xlink\">\r\n <defs>\r\n  <style type=\"text/css\">\r\n*{stroke-linecap:butt;stroke-linejoin:round;}\r\n  </style>\r\n </defs>\r\n <g id=\"figure_1\">\r\n  <g id=\"patch_1\">\r\n   <path d=\"M 0 238.84 \r\nL 264.056085 238.84 \r\nL 264.056085 0 \r\nL 0 0 \r\nz\r\n\" style=\"fill:none;\"/>\r\n  </g>\r\n  <g id=\"axes_1\">\r\n   <g id=\"patch_2\">\r\n    <path d=\"M 231.612085 119.42 \r\nC 231.612085 114.648672 231.219467 109.885425 230.438207 105.178494 \r\nC 229.656946 100.471563 228.48969 95.836891 226.948258 91.321411 \r\nL 144.636085 119.42 \r\nL 231.612085 119.42 \r\nz\r\n\" style=\"fill:#1f77b4;\"/>\r\n   </g>\r\n   <g id=\"patch_3\">\r\n    <path d=\"M 226.948258 91.321411 \r\nC 220.519934 72.490241 207.820058 56.4236 190.982188 45.820657 \r\nC 174.144317 35.217713 154.167297 30.707448 134.407234 33.047579 \r\nL 144.636085 119.42 \r\nL 226.948258 91.321411 \r\nz\r\n\" style=\"fill:#ff7f0e;\"/>\r\n   </g>\r\n   <g id=\"patch_4\">\r\n    <path d=\"M 134.407234 33.047579 \r\nC 122.845746 34.416774 111.675989 38.093501 101.561714 43.859275 \r\nC 91.447438 49.625049 82.593036 57.363353 75.52467 66.614348 \r\nC 68.456303 75.865343 63.316811 86.442082 60.411603 97.716056 \r\nC 57.506394 108.990029 56.894178 120.733409 58.611334 132.24836 \r\nL 144.636085 119.42 \r\nL 134.407234 33.047579 \r\nz\r\n\" style=\"fill:#2ca02c;\"/>\r\n   </g>\r\n   <g id=\"patch_5\">\r\n    <path d=\"M 58.611334 132.24836 \r\nC 59.550062 138.543304 61.176918 144.716236 63.462655 150.65618 \r\nC 65.748393 156.596124 68.679233 162.267272 72.202485 167.567671 \r\nL 144.636085 119.42 \r\nL 58.611334 132.24836 \r\nz\r\n\" style=\"fill:#d62728;\"/>\r\n   </g>\r\n   <g id=\"patch_6\">\r\n    <path d=\"M 72.202485 167.567671 \r\nC 81.505085 181.562549 94.667231 192.565972 110.089375 199.240733 \r\nC 125.51152 205.915494 142.542553 207.979791 159.112754 205.182758 \r\nL 144.636085 119.42 \r\nL 72.202485 167.567671 \r\nz\r\n\" style=\"fill:#9467bd;\"/>\r\n   </g>\r\n   <g id=\"patch_7\">\r\n    <path d=\"M 159.112754 205.182758 \r\nC 179.378638 201.761896 197.790377 191.266045 211.058776 175.570251 \r\nC 224.327175 159.874458 231.612086 139.972571 231.612085 119.419996 \r\nL 144.636085 119.42 \r\nL 159.112754 205.182758 \r\nz\r\n\" style=\"fill:#8c564b;\"/>\r\n   </g>\r\n   <g id=\"matplotlib.axis_1\"/>\r\n   <g id=\"matplotlib.axis_2\"/>\r\n   <g id=\"text_1\">\r\n    <!-- 1-5 -->\r\n    <defs>\r\n     <path d=\"M 12.40625 8.296875 \r\nL 28.515625 8.296875 \r\nL 28.515625 63.921875 \r\nL 10.984375 60.40625 \r\nL 10.984375 69.390625 \r\nL 28.421875 72.90625 \r\nL 38.28125 72.90625 \r\nL 38.28125 8.296875 \r\nL 54.390625 8.296875 \r\nL 54.390625 0 \r\nL 12.40625 0 \r\nz\r\n\" id=\"DejaVuSans-49\"/>\r\n     <path d=\"M 4.890625 31.390625 \r\nL 31.203125 31.390625 \r\nL 31.203125 23.390625 \r\nL 4.890625 23.390625 \r\nz\r\n\" id=\"DejaVuSans-45\"/>\r\n     <path d=\"M 10.796875 72.90625 \r\nL 49.515625 72.90625 \r\nL 49.515625 64.59375 \r\nL 19.828125 64.59375 \r\nL 19.828125 46.734375 \r\nQ 21.96875 47.46875 24.109375 47.828125 \r\nQ 26.265625 48.1875 28.421875 48.1875 \r\nQ 40.625 48.1875 47.75 41.5 \r\nQ 54.890625 34.8125 54.890625 23.390625 \r\nQ 54.890625 11.625 47.5625 5.09375 \r\nQ 40.234375 -1.421875 26.90625 -1.421875 \r\nQ 22.3125 -1.421875 17.546875 -0.640625 \r\nQ 12.796875 0.140625 7.71875 1.703125 \r\nL 7.71875 11.625 \r\nQ 12.109375 9.234375 16.796875 8.0625 \r\nQ 21.484375 6.890625 26.703125 6.890625 \r\nQ 35.15625 6.890625 40.078125 11.328125 \r\nQ 45.015625 15.765625 45.015625 23.390625 \r\nQ 45.015625 31 40.078125 35.4375 \r\nQ 35.15625 39.890625 26.703125 39.890625 \r\nQ 22.75 39.890625 18.8125 39.015625 \r\nQ 14.890625 38.140625 10.796875 36.28125 \r\nz\r\n\" id=\"DejaVuSans-53\"/>\r\n    </defs>\r\n    <g transform=\"translate(239.018419 106.513718)scale(0.1 -0.1)\">\r\n     <use xlink:href=\"#DejaVuSans-49\"/>\r\n     <use x=\"63.623047\" xlink:href=\"#DejaVuSans-45\"/>\r\n     <use x=\"99.707031\" xlink:href=\"#DejaVuSans-53\"/>\r\n    </g>\r\n   </g>\r\n   <g id=\"text_2\">\r\n    <!-- 100-500 -->\r\n    <defs>\r\n     <path d=\"M 31.78125 66.40625 \r\nQ 24.171875 66.40625 20.328125 58.90625 \r\nQ 16.5 51.421875 16.5 36.375 \r\nQ 16.5 21.390625 20.328125 13.890625 \r\nQ 24.171875 6.390625 31.78125 6.390625 \r\nQ 39.453125 6.390625 43.28125 13.890625 \r\nQ 47.125 21.390625 47.125 36.375 \r\nQ 47.125 51.421875 43.28125 58.90625 \r\nQ 39.453125 66.40625 31.78125 66.40625 \r\nz\r\nM 31.78125 74.21875 \r\nQ 44.046875 74.21875 50.515625 64.515625 \r\nQ 56.984375 54.828125 56.984375 36.375 \r\nQ 56.984375 17.96875 50.515625 8.265625 \r\nQ 44.046875 -1.421875 31.78125 -1.421875 \r\nQ 19.53125 -1.421875 13.0625 8.265625 \r\nQ 6.59375 17.96875 6.59375 36.375 \r\nQ 6.59375 54.828125 13.0625 64.515625 \r\nQ 19.53125 74.21875 31.78125 74.21875 \r\nz\r\n\" id=\"DejaVuSans-48\"/>\r\n    </defs>\r\n    <g transform=\"translate(195.616798 41.220097)scale(0.1 -0.1)\">\r\n     <use xlink:href=\"#DejaVuSans-49\"/>\r\n     <use x=\"63.623047\" xlink:href=\"#DejaVuSans-48\"/>\r\n     <use x=\"127.246094\" xlink:href=\"#DejaVuSans-48\"/>\r\n     <use x=\"190.869141\" xlink:href=\"#DejaVuSans-45\"/>\r\n     <use x=\"226.953125\" xlink:href=\"#DejaVuSans-53\"/>\r\n     <use x=\"290.576172\" xlink:href=\"#DejaVuSans-48\"/>\r\n     <use x=\"354.199219\" xlink:href=\"#DejaVuSans-48\"/>\r\n    </g>\r\n   </g>\r\n   <g id=\"text_3\">\r\n    <!-- 26-100 -->\r\n    <defs>\r\n     <path d=\"M 19.1875 8.296875 \r\nL 53.609375 8.296875 \r\nL 53.609375 0 \r\nL 7.328125 0 \r\nL 7.328125 8.296875 \r\nQ 12.9375 14.109375 22.625 23.890625 \r\nQ 32.328125 33.6875 34.8125 36.53125 \r\nQ 39.546875 41.84375 41.421875 45.53125 \r\nQ 43.3125 49.21875 43.3125 52.78125 \r\nQ 43.3125 58.59375 39.234375 62.25 \r\nQ 35.15625 65.921875 28.609375 65.921875 \r\nQ 23.96875 65.921875 18.8125 64.3125 \r\nQ 13.671875 62.703125 7.8125 59.421875 \r\nL 7.8125 69.390625 \r\nQ 13.765625 71.78125 18.9375 73 \r\nQ 24.125 74.21875 28.421875 74.21875 \r\nQ 39.75 74.21875 46.484375 68.546875 \r\nQ 53.21875 62.890625 53.21875 53.421875 \r\nQ 53.21875 48.921875 51.53125 44.890625 \r\nQ 49.859375 40.875 45.40625 35.40625 \r\nQ 44.1875 33.984375 37.640625 27.21875 \r\nQ 31.109375 20.453125 19.1875 8.296875 \r\nz\r\n\" id=\"DejaVuSans-50\"/>\r\n     <path d=\"M 33.015625 40.375 \r\nQ 26.375 40.375 22.484375 35.828125 \r\nQ 18.609375 31.296875 18.609375 23.390625 \r\nQ 18.609375 15.53125 22.484375 10.953125 \r\nQ 26.375 6.390625 33.015625 6.390625 \r\nQ 39.65625 6.390625 43.53125 10.953125 \r\nQ 47.40625 15.53125 47.40625 23.390625 \r\nQ 47.40625 31.296875 43.53125 35.828125 \r\nQ 39.65625 40.375 33.015625 40.375 \r\nz\r\nM 52.59375 71.296875 \r\nL 52.59375 62.3125 \r\nQ 48.875 64.0625 45.09375 64.984375 \r\nQ 41.3125 65.921875 37.59375 65.921875 \r\nQ 27.828125 65.921875 22.671875 59.328125 \r\nQ 17.53125 52.734375 16.796875 39.40625 \r\nQ 19.671875 43.65625 24.015625 45.921875 \r\nQ 28.375 48.1875 33.59375 48.1875 \r\nQ 44.578125 48.1875 50.953125 41.515625 \r\nQ 57.328125 34.859375 57.328125 23.390625 \r\nQ 57.328125 12.15625 50.6875 5.359375 \r\nQ 44.046875 -1.421875 33.015625 -1.421875 \r\nQ 20.359375 -1.421875 13.671875 8.265625 \r\nQ 6.984375 17.96875 6.984375 36.375 \r\nQ 6.984375 53.65625 15.1875 63.9375 \r\nQ 23.390625 74.21875 37.203125 74.21875 \r\nQ 40.921875 74.21875 44.703125 73.484375 \r\nQ 48.484375 72.75 52.59375 71.296875 \r\nz\r\n\" id=\"DejaVuSans-54\"/>\r\n    </defs>\r\n    <g transform=\"translate(33.193216 64.093158)scale(0.1 -0.1)\">\r\n     <use xlink:href=\"#DejaVuSans-50\"/>\r\n     <use x=\"63.623047\" xlink:href=\"#DejaVuSans-54\"/>\r\n     <use x=\"127.246094\" xlink:href=\"#DejaVuSans-45\"/>\r\n     <use x=\"163.330078\" xlink:href=\"#DejaVuSans-49\"/>\r\n     <use x=\"226.953125\" xlink:href=\"#DejaVuSans-48\"/>\r\n     <use x=\"290.576172\" xlink:href=\"#DejaVuSans-48\"/>\r\n    </g>\r\n   </g>\r\n   <g id=\"text_4\">\r\n    <!-- 500-1000 -->\r\n    <g transform=\"translate(7.2 156.539173)scale(0.1 -0.1)\">\r\n     <use xlink:href=\"#DejaVuSans-53\"/>\r\n     <use x=\"63.623047\" xlink:href=\"#DejaVuSans-48\"/>\r\n     <use x=\"127.246094\" xlink:href=\"#DejaVuSans-48\"/>\r\n     <use x=\"190.869141\" xlink:href=\"#DejaVuSans-45\"/>\r\n     <use x=\"226.953125\" xlink:href=\"#DejaVuSans-49\"/>\r\n     <use x=\"290.576172\" xlink:href=\"#DejaVuSans-48\"/>\r\n     <use x=\"354.199219\" xlink:href=\"#DejaVuSans-48\"/>\r\n     <use x=\"417.822266\" xlink:href=\"#DejaVuSans-48\"/>\r\n    </g>\r\n   </g>\r\n   <g id=\"text_5\">\r\n    <!-- 6-25 -->\r\n    <g transform=\"translate(83.939392 209.982181)scale(0.1 -0.1)\">\r\n     <use xlink:href=\"#DejaVuSans-54\"/>\r\n     <use x=\"63.623047\" xlink:href=\"#DejaVuSans-45\"/>\r\n     <use x=\"99.707031\" xlink:href=\"#DejaVuSans-50\"/>\r\n     <use x=\"163.330078\" xlink:href=\"#DejaVuSans-53\"/>\r\n    </g>\r\n   </g>\r\n   <g id=\"text_6\">\r\n    <!-- &gt;1000 -->\r\n    <defs>\r\n     <path d=\"M 10.59375 49.21875 \r\nL 10.59375 58.109375 \r\nL 73.1875 35.40625 \r\nL 73.1875 27.296875 \r\nL 10.59375 4.59375 \r\nL 10.59375 13.484375 \r\nL 60.890625 31.296875 \r\nz\r\n\" id=\"DejaVuSans-62\"/>\r\n    </defs>\r\n    <g transform=\"translate(217.701045 183.944651)scale(0.1 -0.1)\">\r\n     <use xlink:href=\"#DejaVuSans-62\"/>\r\n     <use x=\"83.789062\" xlink:href=\"#DejaVuSans-49\"/>\r\n     <use x=\"147.412109\" xlink:href=\"#DejaVuSans-48\"/>\r\n     <use x=\"211.035156\" xlink:href=\"#DejaVuSans-48\"/>\r\n     <use x=\"274.658203\" xlink:href=\"#DejaVuSans-48\"/>\r\n    </g>\r\n   </g>\r\n  </g>\r\n </g>\r\n</svg>\r\n",
      "image/png": "[encoded data removed]"
     },
     "metadata": {}
    }
   ],
   "source": [
    "plt.pie( labels = size, x = num)\n",
    "plt.show()"
   ]
  },
  {
   "cell_type": "code",
   "execution_count": 43,
   "metadata": {},
   "outputs": [
    {
     "output_type": "execute_result",
     "data": {
      "text/plain": [
       "array(['Very easy', 'Somewhat easy', 'Neither easy nor difficult',\n",
       "       \"I don't know\", 'Very difficult', 'Somewhat difficult'],\n",
       "      dtype=object)"
      ]
     },
     "metadata": {},
     "execution_count": 43
    }
   ],
   "source": [
    "survey_2016['mh_medical_leave'].unique()"
   ]
  },
  {
   "cell_type": "code",
   "execution_count": 42,
   "metadata": {},
   "outputs": [],
   "source": [
    "survey_2016['mh_medical_leave'] = survey_2016['mh_medical_leave'].fillna(\"I don't know\")"
   ]
  },
  {
   "cell_type": "code",
   "execution_count": 44,
   "metadata": {},
   "outputs": [
    {
     "output_type": "execute_result",
     "data": {
      "text/plain": [
       "                            self_empl_flag  comp_no_empl  tech_comp_flag  \\\n",
       "mh_medical_leave                                                           \n",
       "I don't know                           437           150             150   \n",
       "Neither easy nor difficult             178           178             178   \n",
       "Somewhat difficult                     199           199             199   \n",
       "Somewhat easy                          281           281             281   \n",
       "Very difficult                         118           118             118   \n",
       "Very easy                              220           220             220   \n",
       "\n",
       "                            tech_role_flag  mh_coverage_flag  \\\n",
       "mh_medical_leave                                               \n",
       "I don't know                            37               150   \n",
       "Neither easy nor difficult              53               178   \n",
       "Somewhat difficult                      51               199   \n",
       "Somewhat easy                           51               281   \n",
       "Very difficult                          38               118   \n",
       "Very easy                               33               220   \n",
       "\n",
       "                            mh_coverage_awareness_flag  \\\n",
       "mh_medical_leave                                         \n",
       "I don't know                                       140   \n",
       "Neither easy nor difficult                         156   \n",
       "Somewhat difficult                                 177   \n",
       "Somewhat easy                                      255   \n",
       "Very difficult                                      99   \n",
       "Very easy                                          186   \n",
       "\n",
       "                            mh_employer_discussion  mh_resources_provided  \\\n",
       "mh_medical_leave                                                            \n",
       "I don't know                                   150                    150   \n",
       "Neither easy nor difficult                     178                    178   \n",
       "Somewhat difficult                             199                    199   \n",
       "Somewhat easy                                  281                    281   \n",
       "Very difficult                                 118                    118   \n",
       "Very easy                                      220                    220   \n",
       "\n",
       "                            mh_anonimity_flag  mh_discussion_neg_impact  ...  \\\n",
       "mh_medical_leave                                                         ...   \n",
       "I don't know                              150                       150  ...   \n",
       "Neither easy nor difficult                178                       178  ...   \n",
       "Somewhat difficult                        199                       199  ...   \n",
       "Somewhat easy                             281                       281  ...   \n",
       "Very difficult                            118                       118  ...   \n",
       "Very easy                                 220                       220  ...   \n",
       "\n",
       "                            mh_eff_treat_impact_on_work  \\\n",
       "mh_medical_leave                                          \n",
       "I don't know                                        437   \n",
       "Neither easy nor difficult                          178   \n",
       "Somewhat difficult                                  199   \n",
       "Somewhat easy                                       281   \n",
       "Very difficult                                      118   \n",
       "Very easy                                           220   \n",
       "\n",
       "                            mh_not_eff_treat_impact_on_work  age  sex  \\\n",
       "mh_medical_leave                                                        \n",
       "I don't know                                            437  437  436   \n",
       "Neither easy nor difficult                              178  178  178   \n",
       "Somewhat difficult                                      199  199  199   \n",
       "Somewhat easy                                           281  281  279   \n",
       "Very difficult                                          118  118  118   \n",
       "Very easy                                               220  220  220   \n",
       "\n",
       "                            country_live  live_us_teritory  country_work  \\\n",
       "mh_medical_leave                                                           \n",
       "I don't know                         437               230           437   \n",
       "Neither easy nor difficult           178               117           178   \n",
       "Somewhat difficult                   199               131           199   \n",
       "Somewhat easy                        281               162           281   \n",
       "Very difficult                       118                75           118   \n",
       "Very easy                            220               125           220   \n",
       "\n",
       "                            work_us_teritory  work_position  remote_flag  \n",
       "mh_medical_leave                                                          \n",
       "I don't know                             239            437          437  \n",
       "Neither easy nor difficult               117            178          178  \n",
       "Somewhat difficult                       131            199          199  \n",
       "Somewhat easy                            164            281          281  \n",
       "Very difficult                            74            118          118  \n",
       "Very easy                                126            220          220  \n",
       "\n",
       "[6 rows x 62 columns]"
      ],
      "text/html": "<div>\n<style scoped>\n    .dataframe tbody tr th:only-of-type {\n        vertical-align: middle;\n    }\n\n    .dataframe tbody tr th {\n        vertical-align: top;\n    }\n\n    .dataframe thead th {\n        text-align: right;\n    }\n</style>\n<table border=\"1\" class=\"dataframe\">\n  <thead>\n    <tr style=\"text-align: right;\">\n      <th></th>\n      <th>self_empl_flag</th>\n      <th>comp_no_empl</th>\n      <th>tech_comp_flag</th>\n      <th>tech_role_flag</th>\n      <th>mh_coverage_flag</th>\n      <th>mh_coverage_awareness_flag</th>\n      <th>mh_employer_discussion</th>\n      <th>mh_resources_provided</th>\n      <th>mh_anonimity_flag</th>\n      <th>mh_discussion_neg_impact</th>\n      <th>...</th>\n      <th>mh_eff_treat_impact_on_work</th>\n      <th>mh_not_eff_treat_impact_on_work</th>\n      <th>age</th>\n      <th>sex</th>\n      <th>country_live</th>\n      <th>live_us_teritory</th>\n      <th>country_work</th>\n      <th>work_us_teritory</th>\n      <th>work_position</th>\n      <th>remote_flag</th>\n    </tr>\n    <tr>\n      <th>mh_medical_leave</th>\n      <th></th>\n      <th></th>\n      <th></th>\n      <th></th>\n      <th></th>\n      <th></th>\n      <th></th>\n      <th></th>\n      <th></th>\n      <th></th>\n      <th></th>\n      <th></th>\n      <th></th>\n      <th></th>\n      <th></th>\n      <th></th>\n      <th></th>\n      <th></th>\n      <th></th>\n      <th></th>\n      <th></th>\n    </tr>\n  </thead>\n  <tbody>\n    <tr>\n      <th>I don't know</th>\n      <td>437</td>\n      <td>150</td>\n      <td>150</td>\n      <td>37</td>\n      <td>150</td>\n      <td>140</td>\n      <td>150</td>\n      <td>150</td>\n      <td>150</td>\n      <td>150</td>\n      <td>...</td>\n      <td>437</td>\n      <td>437</td>\n      <td>437</td>\n      <td>436</td>\n      <td>437</td>\n      <td>230</td>\n      <td>437</td>\n      <td>239</td>\n      <td>437</td>\n      <td>437</td>\n    </tr>\n    <tr>\n      <th>Neither easy nor difficult</th>\n      <td>178</td>\n      <td>178</td>\n      <td>178</td>\n      <td>53</td>\n      <td>178</td>\n      <td>156</td>\n      <td>178</td>\n      <td>178</td>\n      <td>178</td>\n      <td>178</td>\n      <td>...</td>\n      <td>178</td>\n      <td>178</td>\n      <td>178</td>\n      <td>178</td>\n      <td>178</td>\n      <td>117</td>\n      <td>178</td>\n      <td>117</td>\n      <td>178</td>\n      <td>178</td>\n    </tr>\n    <tr>\n      <th>Somewhat difficult</th>\n      <td>199</td>\n      <td>199</td>\n      <td>199</td>\n      <td>51</td>\n      <td>199</td>\n      <td>177</td>\n      <td>199</td>\n      <td>199</td>\n      <td>199</td>\n      <td>199</td>\n      <td>...</td>\n      <td>199</td>\n      <td>199</td>\n      <td>199</td>\n      <td>199</td>\n      <td>199</td>\n      <td>131</td>\n      <td>199</td>\n      <td>131</td>\n      <td>199</td>\n      <td>199</td>\n    </tr>\n    <tr>\n      <th>Somewhat easy</th>\n      <td>281</td>\n      <td>281</td>\n      <td>281</td>\n      <td>51</td>\n      <td>281</td>\n      <td>255</td>\n      <td>281</td>\n      <td>281</td>\n      <td>281</td>\n      <td>281</td>\n      <td>...</td>\n      <td>281</td>\n      <td>281</td>\n      <td>281</td>\n      <td>279</td>\n      <td>281</td>\n      <td>162</td>\n      <td>281</td>\n      <td>164</td>\n      <td>281</td>\n      <td>281</td>\n    </tr>\n    <tr>\n      <th>Very difficult</th>\n      <td>118</td>\n      <td>118</td>\n      <td>118</td>\n      <td>38</td>\n      <td>118</td>\n      <td>99</td>\n      <td>118</td>\n      <td>118</td>\n      <td>118</td>\n      <td>118</td>\n      <td>...</td>\n      <td>118</td>\n      <td>118</td>\n      <td>118</td>\n      <td>118</td>\n      <td>118</td>\n      <td>75</td>\n      <td>118</td>\n      <td>74</td>\n      <td>118</td>\n      <td>118</td>\n    </tr>\n    <tr>\n      <th>Very easy</th>\n      <td>220</td>\n      <td>220</td>\n      <td>220</td>\n      <td>33</td>\n      <td>220</td>\n      <td>186</td>\n      <td>220</td>\n      <td>220</td>\n      <td>220</td>\n      <td>220</td>\n      <td>...</td>\n      <td>220</td>\n      <td>220</td>\n      <td>220</td>\n      <td>220</td>\n      <td>220</td>\n      <td>125</td>\n      <td>220</td>\n      <td>126</td>\n      <td>220</td>\n      <td>220</td>\n    </tr>\n  </tbody>\n</table>\n<p>6 rows × 62 columns</p>\n</div>"
     },
     "metadata": {},
     "execution_count": 44
    }
   ],
   "source": [
    "survey_2016.groupby('mh_medical_leave').count()['self_empl_flag']"
   ]
  },
  {
   "cell_type": "code",
   "execution_count": null,
   "metadata": {},
   "outputs": [],
   "source": []
  }
 ]
}